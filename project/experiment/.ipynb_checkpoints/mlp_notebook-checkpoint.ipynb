{
 "cells": [
  {
   "cell_type": "code",
   "execution_count": 1,
   "metadata": {},
   "outputs": [],
   "source": [
    "\n",
    "import sys\n",
    "import argparse\n",
    "import numpy as np\n",
    "import matplotlib.pyplot as plt\n",
    "\n",
    "sys.path.append('../')\n",
    "import src.network2 as network2\n",
    "import src.mnist_loader as loader\n",
    "import src.activation as act\n"
   ]
  },
  {
   "cell_type": "code",
   "execution_count": 2,
   "metadata": {},
   "outputs": [],
   "source": [
    "def get_args():\n",
    "    parser = argparse.ArgumentParser()\n",
    "    parser.add_argument('--input', action='store_true',\n",
    "                        help='Check data loading.')\n",
    "    parser.add_argument('--sigmoid', action='store_true',\n",
    "                        help='Check implementation of sigmoid.')\n",
    "    parser.add_argument('--gradient', action='store_true',\n",
    "                        help='Gradient check')\n",
    "    parser.add_argument('--train', action='store_true',\n",
    "                        help='Train the model')\n",
    "\n",
    "\n",
    "    return parser.parse_args()\n",
    "\n",
    "def load_data():\n",
    "    train_data, valid_data, test_data = loader.load_data_wrapper(DATA_PATH)\n",
    "    print('Number of training: {}'.format(len(train_data[0])))\n",
    "    print('Number of validation: {}'.format(len(valid_data[0])))\n",
    "    print('Number of testing: {}'.format(len(test_data[0])))\n",
    "    return train_data, valid_data, test_data\n",
    "\n",
    "def test_sigmoid():\n",
    "    z = np.arange(-10, 10, 0.1)\n",
    "    y = act.sigmoid(z)\n",
    "    y_p = act.sigmoid_prime(z)\n",
    "\n",
    "    plt.figure()\n",
    "    plt.subplot(1, 2, 1)\n",
    "    plt.plot(z, y)\n",
    "    plt.title('sigmoid')\n",
    "\n",
    "    plt.subplot(1, 2, 2)\n",
    "    plt.plot(z, y_p)\n",
    "    plt.title('derivative sigmoid')\n",
    "    plt.show()\n",
    "\n",
    "def gradient_check():\n",
    "    train_data, valid_data, test_data = load_data()\n",
    "    model = network2.Network([784, 20, 10])\n",
    "    model.gradient_check(training_data=train_data, layer_id=1, unit_id=5, weight_id=3)"
   ]
  },
  {
   "cell_type": "code",
   "execution_count": null,
   "metadata": {},
   "outputs": [],
   "source": []
  }
 ],
 "metadata": {
  "kernelspec": {
   "display_name": "Python 3",
   "language": "python",
   "name": "python3"
  },
  "language_info": {
   "codemirror_mode": {
    "name": "ipython",
    "version": 3
   },
   "file_extension": ".py",
   "mimetype": "text/x-python",
   "name": "python",
   "nbconvert_exporter": "python",
   "pygments_lexer": "ipython3",
   "version": "3.7.4"
  }
 },
 "nbformat": 4,
 "nbformat_minor": 2
}
